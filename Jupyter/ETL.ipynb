{
 "cells": [
  {
   "cell_type": "markdown",
   "metadata": {},
   "source": [
    "--------------------------- Validação de Dados"
   ]
  },
  {
   "cell_type": "code",
   "execution_count": 1,
   "metadata": {},
   "outputs": [],
   "source": [
    "import pandas as pd\n",
    "import pandera as pa"
   ]
  },
  {
   "cell_type": "code",
   "execution_count": 6,
   "metadata": {},
   "outputs": [],
   "source": [
    "df = pd.read_csv(\"ocorrencia.csv\", sep=\";\", parse_dates=['ocorrencia_dia', 'ocorrencia_hora'], dayfirst=True )"
   ]
  },
  {
   "cell_type": "code",
   "execution_count": 7,
   "metadata": {},
   "outputs": [],
   "source": [
    "schema = pa.DataFrameSchema(\n",
    "        columns = {\n",
    "            \"Não_necessária\":pa.Column(pa.Int, required = False),\n",
    "            \"codigo_ocorrencia2\":pa.Column(pa.Int),      \n",
    "            \"ocorrencia_classificacao\":pa.Column(pa.String),\n",
    "            \"ocorrencia_cidade\":pa.Column(pa.String),\n",
    "            \"ocorrencia_uf\":pa.Column(pa.String, pa.Check.str_length(2,2)),\n",
    "            \"ocorrencia_aerodromo\":pa.Column(pa.String),\n",
    "            \"codigo_ocorrencia\":pa.Column(pa.Int),\n",
    "            \"ocorrencia_dia\":pa.Column(pa.DateTime),\n",
    "            \"ocorrencia_hora\":pa.Column(pa.DateTime, nullable = True),\n",
    "            \"total_recomendacoes\":pa.Column(pa.Int),\n",
    "        }\n",
    ")"
   ]
  },
  {
   "cell_type": "code",
   "execution_count": 8,
   "metadata": {},
   "outputs": [
    {
     "ename": "SchemaError",
     "evalue": "<Schema Column(name=ocorrencia_uf, type=DataType(str))> failed element-wise validator 0:\n<Check str_length: str_length(2, 2)>\nfailure cases:\n   index failure_case\n0   1099          ***\n1   4728          ***",
     "output_type": "error",
     "traceback": [
      "\u001b[0;31m---------------------------------------------------------------------------\u001b[0m",
      "\u001b[0;31mSchemaError\u001b[0m                               Traceback (most recent call last)",
      "\u001b[1;32m/home/ltk/DEV/BootCamp-Python/Data_engineer/Jupyter/ETL.ipynb Cell 5'\u001b[0m in \u001b[0;36m<cell line: 1>\u001b[0;34m()\u001b[0m\n\u001b[0;32m----> <a href='vscode-notebook-cell:/home/ltk/DEV/BootCamp-Python/Data_engineer/Jupyter/ETL.ipynb#ch0000004?line=0'>1</a>\u001b[0m schema\u001b[39m.\u001b[39;49mvalidate(df)\n",
      "File \u001b[0;32m/usr/local/lib/python3.8/dist-packages/pandera/schemas.py:513\u001b[0m, in \u001b[0;36mDataFrameSchema.validate\u001b[0;34m(self, check_obj, head, tail, sample, random_state, lazy, inplace)\u001b[0m\n\u001b[1;32m    <a href='file:///usr/local/lib/python3.8/dist-packages/pandera/schemas.py?line=499'>500</a>\u001b[0m     check_obj \u001b[39m=\u001b[39m check_obj\u001b[39m.\u001b[39mmap_partitions(\n\u001b[1;32m    <a href='file:///usr/local/lib/python3.8/dist-packages/pandera/schemas.py?line=500'>501</a>\u001b[0m         \u001b[39mself\u001b[39m\u001b[39m.\u001b[39m_validate,\n\u001b[1;32m    <a href='file:///usr/local/lib/python3.8/dist-packages/pandera/schemas.py?line=501'>502</a>\u001b[0m         head\u001b[39m=\u001b[39mhead,\n\u001b[0;32m   (...)\u001b[0m\n\u001b[1;32m    <a href='file:///usr/local/lib/python3.8/dist-packages/pandera/schemas.py?line=507'>508</a>\u001b[0m         meta\u001b[39m=\u001b[39mcheck_obj,\n\u001b[1;32m    <a href='file:///usr/local/lib/python3.8/dist-packages/pandera/schemas.py?line=508'>509</a>\u001b[0m     )\n\u001b[1;32m    <a href='file:///usr/local/lib/python3.8/dist-packages/pandera/schemas.py?line=510'>511</a>\u001b[0m     \u001b[39mreturn\u001b[39;00m check_obj\u001b[39m.\u001b[39mpandera\u001b[39m.\u001b[39madd_schema(\u001b[39mself\u001b[39m)\n\u001b[0;32m--> <a href='file:///usr/local/lib/python3.8/dist-packages/pandera/schemas.py?line=512'>513</a>\u001b[0m \u001b[39mreturn\u001b[39;00m \u001b[39mself\u001b[39;49m\u001b[39m.\u001b[39;49m_validate(\n\u001b[1;32m    <a href='file:///usr/local/lib/python3.8/dist-packages/pandera/schemas.py?line=513'>514</a>\u001b[0m     check_obj\u001b[39m=\u001b[39;49mcheck_obj,\n\u001b[1;32m    <a href='file:///usr/local/lib/python3.8/dist-packages/pandera/schemas.py?line=514'>515</a>\u001b[0m     head\u001b[39m=\u001b[39;49mhead,\n\u001b[1;32m    <a href='file:///usr/local/lib/python3.8/dist-packages/pandera/schemas.py?line=515'>516</a>\u001b[0m     tail\u001b[39m=\u001b[39;49mtail,\n\u001b[1;32m    <a href='file:///usr/local/lib/python3.8/dist-packages/pandera/schemas.py?line=516'>517</a>\u001b[0m     sample\u001b[39m=\u001b[39;49msample,\n\u001b[1;32m    <a href='file:///usr/local/lib/python3.8/dist-packages/pandera/schemas.py?line=517'>518</a>\u001b[0m     random_state\u001b[39m=\u001b[39;49mrandom_state,\n\u001b[1;32m    <a href='file:///usr/local/lib/python3.8/dist-packages/pandera/schemas.py?line=518'>519</a>\u001b[0m     lazy\u001b[39m=\u001b[39;49mlazy,\n\u001b[1;32m    <a href='file:///usr/local/lib/python3.8/dist-packages/pandera/schemas.py?line=519'>520</a>\u001b[0m     inplace\u001b[39m=\u001b[39;49minplace,\n\u001b[1;32m    <a href='file:///usr/local/lib/python3.8/dist-packages/pandera/schemas.py?line=520'>521</a>\u001b[0m )\n",
      "File \u001b[0;32m/usr/local/lib/python3.8/dist-packages/pandera/schemas.py:710\u001b[0m, in \u001b[0;36mDataFrameSchema._validate\u001b[0;34m(self, check_obj, head, tail, sample, random_state, lazy, inplace)\u001b[0m\n\u001b[1;32m    <a href='file:///usr/local/lib/python3.8/dist-packages/pandera/schemas.py?line=707'>708</a>\u001b[0m     check_results\u001b[39m.\u001b[39mappend(check_utils\u001b[39m.\u001b[39mis_table(result))\n\u001b[1;32m    <a href='file:///usr/local/lib/python3.8/dist-packages/pandera/schemas.py?line=708'>709</a>\u001b[0m \u001b[39mexcept\u001b[39;00m errors\u001b[39m.\u001b[39mSchemaError \u001b[39mas\u001b[39;00m err:\n\u001b[0;32m--> <a href='file:///usr/local/lib/python3.8/dist-packages/pandera/schemas.py?line=709'>710</a>\u001b[0m     error_handler\u001b[39m.\u001b[39;49mcollect_error(\u001b[39m\"\u001b[39;49m\u001b[39mschema_component_check\u001b[39;49m\u001b[39m\"\u001b[39;49m, err)\n\u001b[1;32m    <a href='file:///usr/local/lib/python3.8/dist-packages/pandera/schemas.py?line=710'>711</a>\u001b[0m \u001b[39mexcept\u001b[39;00m errors\u001b[39m.\u001b[39mSchemaErrors \u001b[39mas\u001b[39;00m err:\n\u001b[1;32m    <a href='file:///usr/local/lib/python3.8/dist-packages/pandera/schemas.py?line=711'>712</a>\u001b[0m     \u001b[39mfor\u001b[39;00m schema_error_dict \u001b[39min\u001b[39;00m err\u001b[39m.\u001b[39mschema_errors:\n",
      "File \u001b[0;32m/usr/local/lib/python3.8/dist-packages/pandera/error_handlers.py:32\u001b[0m, in \u001b[0;36mSchemaErrorHandler.collect_error\u001b[0;34m(self, reason_code, schema_error, original_exc)\u001b[0m\n\u001b[1;32m     <a href='file:///usr/local/lib/python3.8/dist-packages/pandera/error_handlers.py?line=25'>26</a>\u001b[0m \u001b[39m\"\"\"Collect schema error, raising exception if lazy is False.\u001b[39;00m\n\u001b[1;32m     <a href='file:///usr/local/lib/python3.8/dist-packages/pandera/error_handlers.py?line=26'>27</a>\u001b[0m \n\u001b[1;32m     <a href='file:///usr/local/lib/python3.8/dist-packages/pandera/error_handlers.py?line=27'>28</a>\u001b[0m \u001b[39m:param reason_code: string representing reason for error\u001b[39;00m\n\u001b[1;32m     <a href='file:///usr/local/lib/python3.8/dist-packages/pandera/error_handlers.py?line=28'>29</a>\u001b[0m \u001b[39m:param schema_error: ``SchemaError`` object.\u001b[39;00m\n\u001b[1;32m     <a href='file:///usr/local/lib/python3.8/dist-packages/pandera/error_handlers.py?line=29'>30</a>\u001b[0m \u001b[39m\"\"\"\u001b[39;00m\n\u001b[1;32m     <a href='file:///usr/local/lib/python3.8/dist-packages/pandera/error_handlers.py?line=30'>31</a>\u001b[0m \u001b[39mif\u001b[39;00m \u001b[39mnot\u001b[39;00m \u001b[39mself\u001b[39m\u001b[39m.\u001b[39m_lazy:\n\u001b[0;32m---> <a href='file:///usr/local/lib/python3.8/dist-packages/pandera/error_handlers.py?line=31'>32</a>\u001b[0m     \u001b[39mraise\u001b[39;00m schema_error \u001b[39mfrom\u001b[39;00m \u001b[39moriginal_exc\u001b[39;00m\n\u001b[1;32m     <a href='file:///usr/local/lib/python3.8/dist-packages/pandera/error_handlers.py?line=33'>34</a>\u001b[0m \u001b[39m# delete data of validated object from SchemaError object to prevent\u001b[39;00m\n\u001b[1;32m     <a href='file:///usr/local/lib/python3.8/dist-packages/pandera/error_handlers.py?line=34'>35</a>\u001b[0m \u001b[39m# storing copies of the validated DataFrame/Series for every\u001b[39;00m\n\u001b[1;32m     <a href='file:///usr/local/lib/python3.8/dist-packages/pandera/error_handlers.py?line=35'>36</a>\u001b[0m \u001b[39m# SchemaError collected.\u001b[39;00m\n\u001b[1;32m     <a href='file:///usr/local/lib/python3.8/dist-packages/pandera/error_handlers.py?line=36'>37</a>\u001b[0m \u001b[39mdel\u001b[39;00m schema_error\u001b[39m.\u001b[39mdata\n",
      "File \u001b[0;32m/usr/local/lib/python3.8/dist-packages/pandera/schemas.py:702\u001b[0m, in \u001b[0;36mDataFrameSchema._validate\u001b[0;34m(self, check_obj, head, tail, sample, random_state, lazy, inplace)\u001b[0m\n\u001b[1;32m    <a href='file:///usr/local/lib/python3.8/dist-packages/pandera/schemas.py?line=699'>700</a>\u001b[0m \u001b[39mfor\u001b[39;00m schema_component \u001b[39min\u001b[39;00m schema_components:\n\u001b[1;32m    <a href='file:///usr/local/lib/python3.8/dist-packages/pandera/schemas.py?line=700'>701</a>\u001b[0m     \u001b[39mtry\u001b[39;00m:\n\u001b[0;32m--> <a href='file:///usr/local/lib/python3.8/dist-packages/pandera/schemas.py?line=701'>702</a>\u001b[0m         result \u001b[39m=\u001b[39m schema_component(\n\u001b[1;32m    <a href='file:///usr/local/lib/python3.8/dist-packages/pandera/schemas.py?line=702'>703</a>\u001b[0m             df_to_validate,\n\u001b[1;32m    <a href='file:///usr/local/lib/python3.8/dist-packages/pandera/schemas.py?line=703'>704</a>\u001b[0m             lazy\u001b[39m=\u001b[39;49mlazy,\n\u001b[1;32m    <a href='file:///usr/local/lib/python3.8/dist-packages/pandera/schemas.py?line=704'>705</a>\u001b[0m             \u001b[39m# don't make a copy of the data\u001b[39;49;00m\n\u001b[1;32m    <a href='file:///usr/local/lib/python3.8/dist-packages/pandera/schemas.py?line=705'>706</a>\u001b[0m             inplace\u001b[39m=\u001b[39;49m\u001b[39mTrue\u001b[39;49;00m,\n\u001b[1;32m    <a href='file:///usr/local/lib/python3.8/dist-packages/pandera/schemas.py?line=706'>707</a>\u001b[0m         )\n\u001b[1;32m    <a href='file:///usr/local/lib/python3.8/dist-packages/pandera/schemas.py?line=707'>708</a>\u001b[0m         check_results\u001b[39m.\u001b[39mappend(check_utils\u001b[39m.\u001b[39mis_table(result))\n\u001b[1;32m    <a href='file:///usr/local/lib/python3.8/dist-packages/pandera/schemas.py?line=708'>709</a>\u001b[0m     \u001b[39mexcept\u001b[39;00m errors\u001b[39m.\u001b[39mSchemaError \u001b[39mas\u001b[39;00m err:\n",
      "File \u001b[0;32m/usr/local/lib/python3.8/dist-packages/pandera/schemas.py:2044\u001b[0m, in \u001b[0;36mSeriesSchemaBase.__call__\u001b[0;34m(self, check_obj, head, tail, sample, random_state, lazy, inplace)\u001b[0m\n\u001b[1;32m   <a href='file:///usr/local/lib/python3.8/dist-packages/pandera/schemas.py?line=2032'>2033</a>\u001b[0m \u001b[39mdef\u001b[39;00m \u001b[39m__call__\u001b[39m(\n\u001b[1;32m   <a href='file:///usr/local/lib/python3.8/dist-packages/pandera/schemas.py?line=2033'>2034</a>\u001b[0m     \u001b[39mself\u001b[39m,\n\u001b[1;32m   <a href='file:///usr/local/lib/python3.8/dist-packages/pandera/schemas.py?line=2034'>2035</a>\u001b[0m     check_obj: Union[pd\u001b[39m.\u001b[39mDataFrame, pd\u001b[39m.\u001b[39mSeries],\n\u001b[0;32m   (...)\u001b[0m\n\u001b[1;32m   <a href='file:///usr/local/lib/python3.8/dist-packages/pandera/schemas.py?line=2040'>2041</a>\u001b[0m     inplace: \u001b[39mbool\u001b[39m \u001b[39m=\u001b[39m \u001b[39mFalse\u001b[39;00m,\n\u001b[1;32m   <a href='file:///usr/local/lib/python3.8/dist-packages/pandera/schemas.py?line=2041'>2042</a>\u001b[0m ) \u001b[39m-\u001b[39m\u001b[39m>\u001b[39m Union[pd\u001b[39m.\u001b[39mDataFrame, pd\u001b[39m.\u001b[39mSeries]:\n\u001b[1;32m   <a href='file:///usr/local/lib/python3.8/dist-packages/pandera/schemas.py?line=2042'>2043</a>\u001b[0m     \u001b[39m\"\"\"Alias for ``validate`` method.\"\"\"\u001b[39;00m\n\u001b[0;32m-> <a href='file:///usr/local/lib/python3.8/dist-packages/pandera/schemas.py?line=2043'>2044</a>\u001b[0m     \u001b[39mreturn\u001b[39;00m \u001b[39mself\u001b[39;49m\u001b[39m.\u001b[39;49mvalidate(\n\u001b[1;32m   <a href='file:///usr/local/lib/python3.8/dist-packages/pandera/schemas.py?line=2044'>2045</a>\u001b[0m         check_obj, head, tail, sample, random_state, lazy, inplace\n\u001b[1;32m   <a href='file:///usr/local/lib/python3.8/dist-packages/pandera/schemas.py?line=2045'>2046</a>\u001b[0m     )\n",
      "File \u001b[0;32m/usr/local/lib/python3.8/dist-packages/pandera/schema_components.py:214\u001b[0m, in \u001b[0;36mColumn.validate\u001b[0;34m(self, check_obj, head, tail, sample, random_state, lazy, inplace)\u001b[0m\n\u001b[1;32m    <a href='file:///usr/local/lib/python3.8/dist-packages/pandera/schema_components.py?line=209'>210</a>\u001b[0m             validate_column(\n\u001b[1;32m    <a href='file:///usr/local/lib/python3.8/dist-packages/pandera/schema_components.py?line=210'>211</a>\u001b[0m                 check_obj[column_name]\u001b[39m.\u001b[39miloc[:, [i]], column_name\n\u001b[1;32m    <a href='file:///usr/local/lib/python3.8/dist-packages/pandera/schema_components.py?line=211'>212</a>\u001b[0m             )\n\u001b[1;32m    <a href='file:///usr/local/lib/python3.8/dist-packages/pandera/schema_components.py?line=212'>213</a>\u001b[0m     \u001b[39melse\u001b[39;00m:\n\u001b[0;32m--> <a href='file:///usr/local/lib/python3.8/dist-packages/pandera/schema_components.py?line=213'>214</a>\u001b[0m         validate_column(check_obj, column_name)\n\u001b[1;32m    <a href='file:///usr/local/lib/python3.8/dist-packages/pandera/schema_components.py?line=215'>216</a>\u001b[0m \u001b[39mreturn\u001b[39;00m check_obj\n",
      "File \u001b[0;32m/usr/local/lib/python3.8/dist-packages/pandera/schema_components.py:187\u001b[0m, in \u001b[0;36mColumn.validate.<locals>.validate_column\u001b[0;34m(check_obj, column_name)\u001b[0m\n\u001b[1;32m    <a href='file:///usr/local/lib/python3.8/dist-packages/pandera/schema_components.py?line=185'>186</a>\u001b[0m \u001b[39mdef\u001b[39;00m \u001b[39mvalidate_column\u001b[39m(check_obj, column_name):\n\u001b[0;32m--> <a href='file:///usr/local/lib/python3.8/dist-packages/pandera/schema_components.py?line=186'>187</a>\u001b[0m     \u001b[39msuper\u001b[39;49m(Column, copy(\u001b[39mself\u001b[39;49m)\u001b[39m.\u001b[39;49mset_name(column_name))\u001b[39m.\u001b[39;49mvalidate(\n\u001b[1;32m    <a href='file:///usr/local/lib/python3.8/dist-packages/pandera/schema_components.py?line=187'>188</a>\u001b[0m         check_obj,\n\u001b[1;32m    <a href='file:///usr/local/lib/python3.8/dist-packages/pandera/schema_components.py?line=188'>189</a>\u001b[0m         head,\n\u001b[1;32m    <a href='file:///usr/local/lib/python3.8/dist-packages/pandera/schema_components.py?line=189'>190</a>\u001b[0m         tail,\n\u001b[1;32m    <a href='file:///usr/local/lib/python3.8/dist-packages/pandera/schema_components.py?line=190'>191</a>\u001b[0m         sample,\n\u001b[1;32m    <a href='file:///usr/local/lib/python3.8/dist-packages/pandera/schema_components.py?line=191'>192</a>\u001b[0m         random_state,\n\u001b[1;32m    <a href='file:///usr/local/lib/python3.8/dist-packages/pandera/schema_components.py?line=192'>193</a>\u001b[0m         lazy,\n\u001b[1;32m    <a href='file:///usr/local/lib/python3.8/dist-packages/pandera/schema_components.py?line=193'>194</a>\u001b[0m         inplace\u001b[39m=\u001b[39;49minplace,\n\u001b[1;32m    <a href='file:///usr/local/lib/python3.8/dist-packages/pandera/schema_components.py?line=194'>195</a>\u001b[0m     )\n",
      "File \u001b[0;32m/usr/local/lib/python3.8/dist-packages/pandera/schemas.py:2002\u001b[0m, in \u001b[0;36mSeriesSchemaBase.validate\u001b[0;34m(self, check_obj, head, tail, sample, random_state, lazy, inplace)\u001b[0m\n\u001b[1;32m   <a href='file:///usr/local/lib/python3.8/dist-packages/pandera/schemas.py?line=1995'>1996</a>\u001b[0m     check_results\u001b[39m.\u001b[39mappend(\n\u001b[1;32m   <a href='file:///usr/local/lib/python3.8/dist-packages/pandera/schemas.py?line=1996'>1997</a>\u001b[0m         _handle_check_results(\n\u001b[1;32m   <a href='file:///usr/local/lib/python3.8/dist-packages/pandera/schemas.py?line=1997'>1998</a>\u001b[0m             \u001b[39mself\u001b[39m, check_index, check, check_obj, \u001b[39m*\u001b[39mcheck_args\n\u001b[1;32m   <a href='file:///usr/local/lib/python3.8/dist-packages/pandera/schemas.py?line=1998'>1999</a>\u001b[0m         )\n\u001b[1;32m   <a href='file:///usr/local/lib/python3.8/dist-packages/pandera/schemas.py?line=1999'>2000</a>\u001b[0m     )\n\u001b[1;32m   <a href='file:///usr/local/lib/python3.8/dist-packages/pandera/schemas.py?line=2000'>2001</a>\u001b[0m \u001b[39mexcept\u001b[39;00m errors\u001b[39m.\u001b[39mSchemaError \u001b[39mas\u001b[39;00m err:\n\u001b[0;32m-> <a href='file:///usr/local/lib/python3.8/dist-packages/pandera/schemas.py?line=2001'>2002</a>\u001b[0m     error_handler\u001b[39m.\u001b[39;49mcollect_error(\u001b[39m\"\u001b[39;49m\u001b[39mdataframe_check\u001b[39;49m\u001b[39m\"\u001b[39;49m, err)\n\u001b[1;32m   <a href='file:///usr/local/lib/python3.8/dist-packages/pandera/schemas.py?line=2002'>2003</a>\u001b[0m \u001b[39mexcept\u001b[39;00m \u001b[39mException\u001b[39;00m \u001b[39mas\u001b[39;00m err:  \u001b[39m# pylint: disable=broad-except\u001b[39;00m\n\u001b[1;32m   <a href='file:///usr/local/lib/python3.8/dist-packages/pandera/schemas.py?line=2003'>2004</a>\u001b[0m     \u001b[39m# catch other exceptions that may occur when executing the\u001b[39;00m\n\u001b[1;32m   <a href='file:///usr/local/lib/python3.8/dist-packages/pandera/schemas.py?line=2004'>2005</a>\u001b[0m     \u001b[39m# Check\u001b[39;00m\n\u001b[1;32m   <a href='file:///usr/local/lib/python3.8/dist-packages/pandera/schemas.py?line=2005'>2006</a>\u001b[0m     err_msg \u001b[39m=\u001b[39m \u001b[39mf\u001b[39m\u001b[39m'\u001b[39m\u001b[39m\"\u001b[39m\u001b[39m{\u001b[39;00merr\u001b[39m.\u001b[39margs[\u001b[39m0\u001b[39m]\u001b[39m}\u001b[39;00m\u001b[39m\"\u001b[39m\u001b[39m'\u001b[39m \u001b[39mif\u001b[39;00m \u001b[39mlen\u001b[39m(err\u001b[39m.\u001b[39margs) \u001b[39m>\u001b[39m \u001b[39m0\u001b[39m \u001b[39melse\u001b[39;00m \u001b[39m\"\u001b[39m\u001b[39m\"\u001b[39m\n",
      "File \u001b[0;32m/usr/local/lib/python3.8/dist-packages/pandera/error_handlers.py:32\u001b[0m, in \u001b[0;36mSchemaErrorHandler.collect_error\u001b[0;34m(self, reason_code, schema_error, original_exc)\u001b[0m\n\u001b[1;32m     <a href='file:///usr/local/lib/python3.8/dist-packages/pandera/error_handlers.py?line=25'>26</a>\u001b[0m \u001b[39m\"\"\"Collect schema error, raising exception if lazy is False.\u001b[39;00m\n\u001b[1;32m     <a href='file:///usr/local/lib/python3.8/dist-packages/pandera/error_handlers.py?line=26'>27</a>\u001b[0m \n\u001b[1;32m     <a href='file:///usr/local/lib/python3.8/dist-packages/pandera/error_handlers.py?line=27'>28</a>\u001b[0m \u001b[39m:param reason_code: string representing reason for error\u001b[39;00m\n\u001b[1;32m     <a href='file:///usr/local/lib/python3.8/dist-packages/pandera/error_handlers.py?line=28'>29</a>\u001b[0m \u001b[39m:param schema_error: ``SchemaError`` object.\u001b[39;00m\n\u001b[1;32m     <a href='file:///usr/local/lib/python3.8/dist-packages/pandera/error_handlers.py?line=29'>30</a>\u001b[0m \u001b[39m\"\"\"\u001b[39;00m\n\u001b[1;32m     <a href='file:///usr/local/lib/python3.8/dist-packages/pandera/error_handlers.py?line=30'>31</a>\u001b[0m \u001b[39mif\u001b[39;00m \u001b[39mnot\u001b[39;00m \u001b[39mself\u001b[39m\u001b[39m.\u001b[39m_lazy:\n\u001b[0;32m---> <a href='file:///usr/local/lib/python3.8/dist-packages/pandera/error_handlers.py?line=31'>32</a>\u001b[0m     \u001b[39mraise\u001b[39;00m schema_error \u001b[39mfrom\u001b[39;00m \u001b[39moriginal_exc\u001b[39;00m\n\u001b[1;32m     <a href='file:///usr/local/lib/python3.8/dist-packages/pandera/error_handlers.py?line=33'>34</a>\u001b[0m \u001b[39m# delete data of validated object from SchemaError object to prevent\u001b[39;00m\n\u001b[1;32m     <a href='file:///usr/local/lib/python3.8/dist-packages/pandera/error_handlers.py?line=34'>35</a>\u001b[0m \u001b[39m# storing copies of the validated DataFrame/Series for every\u001b[39;00m\n\u001b[1;32m     <a href='file:///usr/local/lib/python3.8/dist-packages/pandera/error_handlers.py?line=35'>36</a>\u001b[0m \u001b[39m# SchemaError collected.\u001b[39;00m\n\u001b[1;32m     <a href='file:///usr/local/lib/python3.8/dist-packages/pandera/error_handlers.py?line=36'>37</a>\u001b[0m \u001b[39mdel\u001b[39;00m schema_error\u001b[39m.\u001b[39mdata\n",
      "File \u001b[0;32m/usr/local/lib/python3.8/dist-packages/pandera/schemas.py:1997\u001b[0m, in \u001b[0;36mSeriesSchemaBase.validate\u001b[0;34m(self, check_obj, head, tail, sample, random_state, lazy, inplace)\u001b[0m\n\u001b[1;32m   <a href='file:///usr/local/lib/python3.8/dist-packages/pandera/schemas.py?line=1993'>1994</a>\u001b[0m \u001b[39mfor\u001b[39;00m check_index, check \u001b[39min\u001b[39;00m \u001b[39menumerate\u001b[39m(\u001b[39mself\u001b[39m\u001b[39m.\u001b[39mchecks):\n\u001b[1;32m   <a href='file:///usr/local/lib/python3.8/dist-packages/pandera/schemas.py?line=1994'>1995</a>\u001b[0m     \u001b[39mtry\u001b[39;00m:\n\u001b[1;32m   <a href='file:///usr/local/lib/python3.8/dist-packages/pandera/schemas.py?line=1995'>1996</a>\u001b[0m         check_results\u001b[39m.\u001b[39mappend(\n\u001b[0;32m-> <a href='file:///usr/local/lib/python3.8/dist-packages/pandera/schemas.py?line=1996'>1997</a>\u001b[0m             _handle_check_results(\n\u001b[1;32m   <a href='file:///usr/local/lib/python3.8/dist-packages/pandera/schemas.py?line=1997'>1998</a>\u001b[0m                 \u001b[39mself\u001b[39;49m, check_index, check, check_obj, \u001b[39m*\u001b[39;49mcheck_args\n\u001b[1;32m   <a href='file:///usr/local/lib/python3.8/dist-packages/pandera/schemas.py?line=1998'>1999</a>\u001b[0m             )\n\u001b[1;32m   <a href='file:///usr/local/lib/python3.8/dist-packages/pandera/schemas.py?line=1999'>2000</a>\u001b[0m         )\n\u001b[1;32m   <a href='file:///usr/local/lib/python3.8/dist-packages/pandera/schemas.py?line=2000'>2001</a>\u001b[0m     \u001b[39mexcept\u001b[39;00m errors\u001b[39m.\u001b[39mSchemaError \u001b[39mas\u001b[39;00m err:\n\u001b[1;32m   <a href='file:///usr/local/lib/python3.8/dist-packages/pandera/schemas.py?line=2001'>2002</a>\u001b[0m         error_handler\u001b[39m.\u001b[39mcollect_error(\u001b[39m\"\u001b[39m\u001b[39mdataframe_check\u001b[39m\u001b[39m\"\u001b[39m, err)\n",
      "File \u001b[0;32m/usr/local/lib/python3.8/dist-packages/pandera/schemas.py:2383\u001b[0m, in \u001b[0;36m_handle_check_results\u001b[0;34m(schema, check_index, check, check_obj, *check_args)\u001b[0m\n\u001b[1;32m   <a href='file:///usr/local/lib/python3.8/dist-packages/pandera/schemas.py?line=2380'>2381</a>\u001b[0m         warnings\u001b[39m.\u001b[39mwarn(error_msg, \u001b[39mUserWarning\u001b[39;00m)\n\u001b[1;32m   <a href='file:///usr/local/lib/python3.8/dist-packages/pandera/schemas.py?line=2381'>2382</a>\u001b[0m         \u001b[39mreturn\u001b[39;00m \u001b[39mTrue\u001b[39;00m\n\u001b[0;32m-> <a href='file:///usr/local/lib/python3.8/dist-packages/pandera/schemas.py?line=2382'>2383</a>\u001b[0m     \u001b[39mraise\u001b[39;00m errors\u001b[39m.\u001b[39mSchemaError(\n\u001b[1;32m   <a href='file:///usr/local/lib/python3.8/dist-packages/pandera/schemas.py?line=2383'>2384</a>\u001b[0m         schema,\n\u001b[1;32m   <a href='file:///usr/local/lib/python3.8/dist-packages/pandera/schemas.py?line=2384'>2385</a>\u001b[0m         check_obj,\n\u001b[1;32m   <a href='file:///usr/local/lib/python3.8/dist-packages/pandera/schemas.py?line=2385'>2386</a>\u001b[0m         error_msg,\n\u001b[1;32m   <a href='file:///usr/local/lib/python3.8/dist-packages/pandera/schemas.py?line=2386'>2387</a>\u001b[0m         failure_cases\u001b[39m=\u001b[39mfailure_cases,\n\u001b[1;32m   <a href='file:///usr/local/lib/python3.8/dist-packages/pandera/schemas.py?line=2387'>2388</a>\u001b[0m         check\u001b[39m=\u001b[39mcheck,\n\u001b[1;32m   <a href='file:///usr/local/lib/python3.8/dist-packages/pandera/schemas.py?line=2388'>2389</a>\u001b[0m         check_index\u001b[39m=\u001b[39mcheck_index,\n\u001b[1;32m   <a href='file:///usr/local/lib/python3.8/dist-packages/pandera/schemas.py?line=2389'>2390</a>\u001b[0m         check_output\u001b[39m=\u001b[39mcheck_result\u001b[39m.\u001b[39mcheck_output,\n\u001b[1;32m   <a href='file:///usr/local/lib/python3.8/dist-packages/pandera/schemas.py?line=2390'>2391</a>\u001b[0m     )\n\u001b[1;32m   <a href='file:///usr/local/lib/python3.8/dist-packages/pandera/schemas.py?line=2391'>2392</a>\u001b[0m \u001b[39mreturn\u001b[39;00m check_result\u001b[39m.\u001b[39mcheck_passed\n",
      "\u001b[0;31mSchemaError\u001b[0m: <Schema Column(name=ocorrencia_uf, type=DataType(str))> failed element-wise validator 0:\n<Check str_length: str_length(2, 2)>\nfailure cases:\n   index failure_case\n0   1099          ***\n1   4728          ***"
     ]
    }
   ],
   "source": [
    "schema.validate(df)"
   ]
  },
  {
   "cell_type": "markdown",
   "metadata": {},
   "source": [
    "------------------------------------- Limpeza dos Dados"
   ]
  },
  {
   "cell_type": "code",
   "execution_count": null,
   "metadata": {},
   "outputs": [],
   "source": [
    "df.loc[1:3,'ocorrencia_uf'] #Localizando na matriz ['linha','colina']' nao sao indices de arrays e sim da lista"
   ]
  },
  {
   "cell_type": "code",
   "execution_count": null,
   "metadata": {},
   "outputs": [],
   "source": [
    "df.iloc[1] # iloc já pode se utilizar indices, como por exemplo -1 para encontrar a ultima linha ou -2 para a penultima\n",
    "#iloc é indice e loc é label"
   ]
  },
  {
   "cell_type": "code",
   "execution_count": null,
   "metadata": {},
   "outputs": [],
   "source": [
    "df.loc[1]"
   ]
  },
  {
   "cell_type": "code",
   "execution_count": null,
   "metadata": {},
   "outputs": [],
   "source": [
    "df.loc[[1,500],'ocorrencia_uf'] #Localizando na matriz ['linha','colina']' nao sao indices de arrays e sim da lista"
   ]
  },
  {
   "cell_type": "code",
   "execution_count": null,
   "metadata": {},
   "outputs": [],
   "source": [
    "df.loc[:,'ocorrencia_uf'] #Localizando na matriz ['linha','colina']' nao sao indices de arrays e sim da lista"
   ]
  },
  {
   "cell_type": "code",
   "execution_count": null,
   "metadata": {},
   "outputs": [],
   "source": [
    "#df.codigo_ocorrencia2.is_unique #verifica se é unico"
   ]
  },
  {
   "cell_type": "code",
   "execution_count": null,
   "metadata": {},
   "outputs": [],
   "source": [
    "#if(df.codigo_ocorrencia2.is_unique):\n",
    "    #df.set_index('codigo_ocorrencia2', inplace = True)"
   ]
  },
  {
   "cell_type": "code",
   "execution_count": null,
   "metadata": {},
   "outputs": [],
   "source": [
    "df.head()"
   ]
  },
  {
   "cell_type": "code",
   "execution_count": null,
   "metadata": {},
   "outputs": [],
   "source": [
    "df.loc[45407]"
   ]
  },
  {
   "cell_type": "code",
   "execution_count": null,
   "metadata": {},
   "outputs": [],
   "source": [
    "filtro = df.ocorrencia_uf.isnull()\n",
    "df.loc[filtro] #localiza na coluna indicada valores NULL,NAN,NAT,NA\n",
    "df.count()\n",
    "df.ocorrencia_uf.count()"
   ]
  },
  {
   "cell_type": "code",
   "execution_count": null,
   "metadata": {},
   "outputs": [],
   "source": [
    "df['codigo_ocorrencia2'] #le a colina sem a necessidade de linhas, mas vai ler todo o arquivo"
   ]
  },
  {
   "cell_type": "code",
   "execution_count": null,
   "metadata": {},
   "outputs": [],
   "source": [
    "df.reset_index(drop=True,inplace=True)"
   ]
  },
  {
   "cell_type": "code",
   "execution_count": null,
   "metadata": {},
   "outputs": [],
   "source": [
    "#filtro combinado com ambos os filtros\n",
    "filtro1 = df.ocorrencia_uf == 'SP'\n",
    "filtro2 = df.total_recomendacoes > 10\n",
    "df.loc[filtro1 & filtro2, ['ocorrencia_UF', 'total_recomendacoes']] #filtra recomendações > 10 por coluna, se nao tiver nada, filtra em todas"
   ]
  },
  {
   "cell_type": "code",
   "execution_count": null,
   "metadata": {},
   "outputs": [],
   "source": [
    "#filtro combinado com ou e &\n",
    "filtro1 = df.ocorrencia_uf.isin(['SP','MG'])\n",
    "#filtro1 = (df.ocorrencia_uf == 'SP') or (df.ocorrencia_uf == 'MG')\n",
    "filtro2 = df.total_recomendacoes > 10\n",
    "df.loc[filtro1 & filtro2, ['ocorrencia_UF', 'total_recomendacoes']] #filtra recomendações > 10 por coluna, se nao tiver nada, filtra em todas"
   ]
  },
  {
   "cell_type": "code",
   "execution_count": null,
   "metadata": {},
   "outputs": [],
   "source": [
    "#filtro combinado com ou\n",
    "filtro1 = df.ocorrencia_uf == 'SP'\n",
    "filtro2 = df.total_recomendacoes > 10\n",
    "df.loc[filtro1 or filtro2, ['ocorrencia_UF', 'total_recomendacoes']] #filtra recomendações > 10 por coluna, se nao tiver nada, filtra em todas"
   ]
  },
  {
   "cell_type": "code",
   "execution_count": null,
   "metadata": {},
   "outputs": [],
   "source": [
    "#filtro\n",
    "filtro2 = df.total_recomendacoes > 10\n",
    "df.loc[filtro, ['ocorrencia_cidade', 'total_recomendacoes']] #filtra recomendações > 10 por coluna, se nao tiver nada, filtra em todas"
   ]
  },
  {
   "cell_type": "code",
   "execution_count": null,
   "metadata": {},
   "outputs": [],
   "source": [
    "#filtros por caractere\n",
    "filtro4 = df.ocorrencia_cidade.str[0] == 'C' #o zero indica a posição do caractere, -1 indica ultima letra por exemplo\n",
    "#filtros por multiplos caracteres \n",
    "filtro4 = df.ocorrencia_cidade.str[-2:] == 'CA' #pega as ultimas 2 letras poderia ser tbm [-2:-1]\n",
    "#filtros por intes que constam em qualquer parte\n",
    "filtro4 = df.ocorrencia_cidade.str.contains('CA|MA') #CA ou MA\n",
    "#filtro por data\n",
    "filtro4 = df.ocorrencia_dia.dt.year == 2015\n",
    "#filtro por data combinada\n",
    "filtro4 = df.ocorrencia_dia.dt.year == 2015\n",
    "filtro5 = df.ocorrencia_dia.dt.month == 12\n",
    "filtro6 = (df.ocorrencia_dia.dt.day < 9) & (df.ocorrencia_dia.dt.day > 2)\n",
    "#df.loc[filtro4 & filtro6 & filtro5]\n",
    "#filtro4 = (df.ocorrencia_dia.dt.year == 2015) & (filtro5 = df.ocorrencia_dia.dt.month == 12)\n",
    "novodf = df.loc[filtro4]"
   ]
  },
  {
   "cell_type": "code",
   "execution_count": null,
   "metadata": {},
   "outputs": [],
   "source": [
    "#transformar em data\n",
    "pd.to_datetime()\n",
    "#transformar o tipo\n",
    "pd.ocorrencia_dia.astype(str)"
   ]
  },
  {
   "cell_type": "code",
   "execution_count": null,
   "metadata": {},
   "outputs": [],
   "source": [
    "df.head()"
   ]
  },
  {
   "cell_type": "code",
   "execution_count": null,
   "metadata": {},
   "outputs": [],
   "source": [
    "df.head()"
   ]
  },
  {
   "cell_type": "code",
   "execution_count": null,
   "metadata": {},
   "outputs": [],
   "source": [
    "df.replace(['**','####','###!','****','*****','NULL'], pd.NA, inplace = True)"
   ]
  },
  {
   "cell_type": "code",
   "execution_count": null,
   "metadata": {},
   "outputs": [],
   "source": [
    "df.head(10)"
   ]
  },
  {
   "cell_type": "code",
   "execution_count": null,
   "metadata": {},
   "outputs": [],
   "source": [
    "df.isnull().sum()"
   ]
  },
  {
   "cell_type": "code",
   "execution_count": null,
   "metadata": {},
   "outputs": [],
   "source": [
    "df.fillna(value={'ocorrencia_uf':'MG'}, inplace=True) #substitui valores em colunas especificadas"
   ]
  },
  {
   "cell_type": "code",
   "execution_count": null,
   "metadata": {},
   "outputs": [],
   "source": [
    "df.isnull().sum()"
   ]
  },
  {
   "cell_type": "code",
   "execution_count": null,
   "metadata": {},
   "outputs": [],
   "source": [
    "df['coluna_calculada'] = (df.total_recomendacoes.sum() / 2) #cria coluna"
   ]
  },
  {
   "cell_type": "code",
   "execution_count": null,
   "metadata": {},
   "outputs": [],
   "source": [
    "df.head()"
   ]
  },
  {
   "cell_type": "code",
   "execution_count": null,
   "metadata": {},
   "outputs": [],
   "source": [
    "df.drop(['coluna_calculada'], inplace=True, axis=1) #axis=1 é coluna e #axis=0 é linha"
   ]
  },
  {
   "cell_type": "code",
   "execution_count": null,
   "metadata": {},
   "outputs": [],
   "source": [
    "df.head()"
   ]
  },
  {
   "cell_type": "code",
   "execution_count": null,
   "metadata": {},
   "outputs": [],
   "source": [
    "#df.dropna() exclui toda a linha que contenha uma celula vazia\n",
    "#df.dropna(subset=['coluna1','coluna2']) exclui toda a linha que contenha uma celula vazia\n",
    "#df.drop_duplicates(inplace=True)"
   ]
  },
  {
   "cell_type": "markdown",
   "metadata": {},
   "source": [
    "---------------------------- Transformação de dados"
   ]
  },
  {
   "cell_type": "code",
   "execution_count": null,
   "metadata": {},
   "outputs": [],
   "source": [
    "df.groupby(['ocorrencia_classificacao']).codigo_ocorrencia.count()\n",
    "#por label\n",
    "df.groupby(['ocorrencia_classificacao']).size()\n",
    "#organizando\n",
    "df.groupby(['ocorrencia_classificacao']).size().sort_values() # crescende\n",
    "df.groupby(['ocorrencia_classificacao']).size().sort_values(ascending=False) #decrescente\n",
    "#ordenando nivel de classificação\n",
    "df.groupby(['ocorrencia_uf','ocorrencia_classificacao']).size()\n",
    "#somando coluna recomendacoes por filtro de cidade = rio de janeiro\n",
    "filtro = df.ocorrencia_cidade == 'RIO DE JANEIRO'\n",
    "df.loc[filtro].total_recomendacoes.sum()"
   ]
  }
 ],
 "metadata": {
  "kernelspec": {
   "display_name": "Python 3 (ipykernel)",
   "language": "python",
   "name": "python3"
  },
  "language_info": {
   "codemirror_mode": {
    "name": "ipython",
    "version": 3
   },
   "file_extension": ".py",
   "mimetype": "text/x-python",
   "name": "python",
   "nbconvert_exporter": "python",
   "pygments_lexer": "ipython3",
   "version": "3.8.10"
  }
 },
 "nbformat": 4,
 "nbformat_minor": 4
}
