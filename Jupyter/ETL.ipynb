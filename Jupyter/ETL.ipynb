{
 "cells": [
  {
   "cell_type": "markdown",
   "metadata": {},
   "source": [
    "--------------------------- Validação de Dados"
   ]
  },
  {
   "cell_type": "code",
   "execution_count": null,
   "metadata": {},
   "outputs": [],
   "source": [
    "import pandas as pd\n",
    "import pandera as pa"
   ]
  },
  {
   "cell_type": "code",
   "execution_count": null,
   "metadata": {},
   "outputs": [],
   "source": [
    "df = pd.read_csv(\"ocorrencia.csv\", sep=\",\", parse_dates=['ocorrencia_dia', 'ocorrencia_hora'], dayfirst=True )\n",
    "#df.head(10)\n",
    "#df.tail(n)"
   ]
  },
  {
   "cell_type": "code",
   "execution_count": null,
   "metadata": {},
   "outputs": [],
   "source": [
    "schema = pa.DataFrameSchema(\n",
    "        columns = {\n",
    "            \"Não_necessária\":pa.Column(pa.Int, required = False),\n",
    "            \"codigo_ocorrencia2\":pa.Column(pa.Int),      \n",
    "            \"ocorrencia_classificacao\":pa.Column(pa.String),\n",
    "            \"ocorrencia_cidade\":pa.Column(pa.String),\n",
    "            \"ocorrencia_uf\":pa.Column(pa.String, pa.Check.str_length(2,2)),\n",
    "            \"ocorrencia_aerodromo\":pa.Column(pa.String),\n",
    "            \"codigo_ocorrencia\":pa.Column(pa.Int),\n",
    "            \"ocorrencia_dia\":pa.Column(pa.DateTime),\n",
    "            \"ocorrencia_hora\":pa.Column(pa.DateTime, nullable = True),\n",
    "            \"total_recomendacoes\":pa.Column(pa.Int),\n",
    "        }\n",
    ")"
   ]
  },
  {
   "cell_type": "code",
   "execution_count": null,
   "metadata": {},
   "outputs": [],
   "source": [
    "schema.validate(df)"
   ]
  },
  {
   "cell_type": "markdown",
   "metadata": {},
   "source": [
    "------------------------------------- Limpeza dos Dados"
   ]
  },
  {
   "cell_type": "code",
   "execution_count": null,
   "metadata": {},
   "outputs": [],
   "source": [
    "df.loc[1:3,'ocorrencia_uf'] #Localizando na matriz ['linha','colina']' nao sao indices de arrays e sim da lista"
   ]
  },
  {
   "cell_type": "code",
   "execution_count": null,
   "metadata": {},
   "outputs": [],
   "source": [
    "df.iloc[1] # iloc já pode se utilizar indices, como por exemplo -1 para encontrar a ultima linha ou -2 para a penultima\n",
    "#iloc é indice e loc é label"
   ]
  },
  {
   "cell_type": "code",
   "execution_count": null,
   "metadata": {},
   "outputs": [],
   "source": [
    "df.loc[1]"
   ]
  },
  {
   "cell_type": "code",
   "execution_count": null,
   "metadata": {},
   "outputs": [],
   "source": [
    "df.loc[[1,500],'ocorrencia_uf'] #Localizando na matriz ['linha','colina']' nao sao indices de arrays e sim da lista"
   ]
  },
  {
   "cell_type": "code",
   "execution_count": null,
   "metadata": {},
   "outputs": [],
   "source": [
    "df.loc[:,'ocorrencia_uf'] #Localizando na matriz ['linha','colina']' nao sao indices de arrays e sim da lista"
   ]
  },
  {
   "cell_type": "code",
   "execution_count": null,
   "metadata": {},
   "outputs": [],
   "source": [
    "#df.codigo_ocorrencia2.is_unique #verifica se é unico"
   ]
  },
  {
   "cell_type": "code",
   "execution_count": null,
   "metadata": {},
   "outputs": [],
   "source": [
    "#if(df.codigo_ocorrencia2.is_unique):\n",
    "    #df.set_index('codigo_ocorrencia2', inplace = True)"
   ]
  },
  {
   "cell_type": "code",
   "execution_count": null,
   "metadata": {},
   "outputs": [],
   "source": [
    "df.head()"
   ]
  },
  {
   "cell_type": "code",
   "execution_count": null,
   "metadata": {},
   "outputs": [],
   "source": [
    "df.loc[45407]"
   ]
  },
  {
   "cell_type": "code",
   "execution_count": null,
   "metadata": {},
   "outputs": [],
   "source": [
    "filtro = df.ocorrencia_uf.isnull()\n",
    "df.loc[filtro] #localiza na coluna indicada valores NULL,NAN,NAT,NA\n",
    "df.count()\n",
    "df.ocorrencia_uf.count()"
   ]
  },
  {
   "cell_type": "code",
   "execution_count": null,
   "metadata": {},
   "outputs": [],
   "source": [
    "df['codigo_ocorrencia2'] #le a colina sem a necessidade de linhas, mas vai ler todo o arquivo"
   ]
  },
  {
   "cell_type": "code",
   "execution_count": null,
   "metadata": {},
   "outputs": [],
   "source": [
    "df.reset_index(drop=True,inplace=True)"
   ]
  },
  {
   "cell_type": "code",
   "execution_count": null,
   "metadata": {},
   "outputs": [],
   "source": [
    "#filtro combinado com ambos os filtros\n",
    "filtro1 = df.ocorrencia_uf == 'SP'\n",
    "filtro2 = df.total_recomendacoes > 10\n",
    "df.loc[filtro1 & filtro2, ['ocorrencia_UF', 'total_recomendacoes']] #filtra recomendações > 10 por coluna, se nao tiver nada, filtra em todas"
   ]
  },
  {
   "cell_type": "code",
   "execution_count": null,
   "metadata": {},
   "outputs": [],
   "source": [
    "#filtro combinado com ou e &\n",
    "filtro1 = df.ocorrencia_uf.isin(['SP','MG'])\n",
    "#filtro1 = (df.ocorrencia_uf == 'SP') or (df.ocorrencia_uf == 'MG')\n",
    "filtro2 = df.total_recomendacoes > 10\n",
    "df.loc[filtro1 & filtro2, ['ocorrencia_UF', 'total_recomendacoes']] #filtra recomendações > 10 por coluna, se nao tiver nada, filtra em todas"
   ]
  },
  {
   "cell_type": "code",
   "execution_count": null,
   "metadata": {},
   "outputs": [],
   "source": [
    "#filtro combinado com ou\n",
    "filtro1 = df.ocorrencia_uf == 'SP'\n",
    "filtro2 = df.total_recomendacoes > 10\n",
    "df.loc[filtro1 or filtro2, ['ocorrencia_UF', 'total_recomendacoes']] #filtra recomendações > 10 por coluna, se nao tiver nada, filtra em todas"
   ]
  },
  {
   "cell_type": "code",
   "execution_count": null,
   "metadata": {},
   "outputs": [],
   "source": [
    "#filtro\n",
    "filtro2 = df.total_recomendacoes > 10\n",
    "df.loc[filtro, ['ocorrencia_cidade', 'total_recomendacoes']] #filtra recomendações > 10 por coluna, se nao tiver nada, filtra em todas"
   ]
  },
  {
   "cell_type": "code",
   "execution_count": null,
   "metadata": {},
   "outputs": [],
   "source": [
    "#filtros por caractere\n",
    "filtro4 = df.ocorrencia_cidade.str[0] == 'C' #o zero indica a posição do caractere, -1 indica ultima letra por exemplo\n",
    "#filtros por multiplos caracteres \n",
    "filtro4 = df.ocorrencia_cidade.str[-2:] == 'CA' #pega as ultimas 2 letras poderia ser tbm [-2:-1]\n",
    "#filtros por intes que constam em qualquer parte\n",
    "filtro4 = df.ocorrencia_cidade.str.contains('CA|MA') #CA ou MA\n",
    "#filtro por data\n",
    "filtro4 = df.ocorrencia_dia.dt.year == 2015\n",
    "#filtro por data combinada\n",
    "filtro4 = df.ocorrencia_dia.dt.year == 2015\n",
    "filtro5 = df.ocorrencia_dia.dt.month == 12\n",
    "filtro6 = (df.ocorrencia_dia.dt.day < 9) & (df.ocorrencia_dia.dt.day > 2)\n",
    "#df.loc[filtro4 & filtro6 & filtro5]\n",
    "#filtro4 = (df.ocorrencia_dia.dt.year == 2015) & (filtro5 = df.ocorrencia_dia.dt.month == 12)\n",
    "novodf = df.loc[filtro4]"
   ]
  },
  {
   "cell_type": "code",
   "execution_count": null,
   "metadata": {},
   "outputs": [],
   "source": [
    "#transformar em data\n",
    "pd.to_datetime()\n",
    "#transformar o tipo\n",
    "pd.ocorrencia_dia.astype(str)"
   ]
  },
  {
   "cell_type": "code",
   "execution_count": null,
   "metadata": {},
   "outputs": [],
   "source": [
    "df.head()"
   ]
  },
  {
   "cell_type": "code",
   "execution_count": null,
   "metadata": {},
   "outputs": [],
   "source": [
    "df.head()"
   ]
  },
  {
   "cell_type": "code",
   "execution_count": null,
   "metadata": {},
   "outputs": [],
   "source": [
    "df.replace(['**','####','###!','****','*****','NULL'], pd.NA, inplace = True)"
   ]
  },
  {
   "cell_type": "code",
   "execution_count": null,
   "metadata": {},
   "outputs": [],
   "source": [
    "df.head(10)"
   ]
  },
  {
   "cell_type": "code",
   "execution_count": null,
   "metadata": {},
   "outputs": [],
   "source": [
    "df.isnull().sum()"
   ]
  },
  {
   "cell_type": "code",
   "execution_count": null,
   "metadata": {},
   "outputs": [],
   "source": [
    "df.fillna(value={'ocorrencia_uf':'MG'}, inplace=True) #substitui valores em colunas especificadas"
   ]
  },
  {
   "cell_type": "code",
   "execution_count": null,
   "metadata": {},
   "outputs": [],
   "source": [
    "df.isnull().sum()"
   ]
  },
  {
   "cell_type": "code",
   "execution_count": null,
   "metadata": {},
   "outputs": [],
   "source": [
    "df['coluna_calculada'] = (df.total_recomendacoes.sum() / 2) #cria coluna"
   ]
  },
  {
   "cell_type": "code",
   "execution_count": null,
   "metadata": {},
   "outputs": [],
   "source": [
    "df.head()"
   ]
  },
  {
   "cell_type": "code",
   "execution_count": null,
   "metadata": {},
   "outputs": [],
   "source": [
    "df.drop(['coluna_calculada'], inplace=True, axis=1) #axis=1 é coluna e #axis=0 é linha"
   ]
  },
  {
   "cell_type": "code",
   "execution_count": null,
   "metadata": {},
   "outputs": [],
   "source": [
    "df.head()"
   ]
  },
  {
   "cell_type": "code",
   "execution_count": null,
   "metadata": {},
   "outputs": [],
   "source": [
    "#df.dropna() exclui toda a linha que contenha uma celula vazia\n",
    "#df.dropna(subset=['coluna1','coluna2']) exclui toda a linha que contenha uma celula vazia\n",
    "#df.drop_duplicates(inplace=True)"
   ]
  },
  {
   "cell_type": "markdown",
   "metadata": {},
   "source": [
    "---------------------------- Transformação de dados"
   ]
  },
  {
   "cell_type": "code",
   "execution_count": null,
   "metadata": {},
   "outputs": [],
   "source": [
    "df.groupby(['ocorrencia_classificacao']).codigo_ocorrencia.count()\n",
    "#por label\n",
    "df.groupby(['ocorrencia_classificacao']).size()\n",
    "#organizando\n",
    "df.groupby(['ocorrencia_classificacao']).size().sort_values() # crescende\n",
    "df.groupby(['ocorrencia_classificacao']).size().sort_values(ascending=False) #decrescente\n",
    "#ordenando nivel de classificação\n",
    "df.groupby(['ocorrencia_uf','ocorrencia_classificacao']).size()\n",
    "#somando coluna recomendacoes por filtro de cidade = rio de janeiro\n",
    "filtro = df.ocorrencia_cidade == 'RIO DE JANEIRO'\n",
    "df.loc[filtro].total_recomendacoes.sum()"
   ]
  }
 ],
 "metadata": {
  "kernelspec": {
   "display_name": "Python 3 (ipykernel)",
   "language": "python",
   "name": "python3"
  },
  "language_info": {
   "codemirror_mode": {
    "name": "ipython",
    "version": 3
   },
   "file_extension": ".py",
   "mimetype": "text/x-python",
   "name": "python",
   "nbconvert_exporter": "python",
   "pygments_lexer": "ipython3",
   "version": "3.9.7"
  }
 },
 "nbformat": 4,
 "nbformat_minor": 4
}
